{
  "nbformat": 4,
  "nbformat_minor": 0,
  "metadata": {
    "colab": {
      "name": "Python_puzzles.ipynb",
      "version": "0.3.2",
      "provenance": [],
      "include_colab_link": true
    },
    "kernelspec": {
      "name": "python3",
      "display_name": "Python 3"
    }
  },
  "cells": [
    {
      "cell_type": "markdown",
      "metadata": {
        "id": "view-in-github",
        "colab_type": "text"
      },
      "source": [
        "<a href=\"https://colab.research.google.com/github/nightcrawler99/Python_puzzles/blob/master/Python_puzzles.ipynb\" target=\"_parent\"><img src=\"https://colab.research.google.com/assets/colab-badge.svg\" alt=\"Open In Colab\"/></a>"
      ]
    },
    {
      "metadata": {
        "id": "e1kELE-SyIAw",
        "colab_type": "text"
      },
      "cell_type": "markdown",
      "source": [
        "**1>**\n",
        "Given 2 strings, a and b, return the number of the positions where they contain the same length 2 substring. So \"xxcaazz\" and \"xxbaaz\" yields 3, since the \"xx\", \"aa\", and \"az\" substrings appear in the same place in both strings.\n",
        "\n",
        "string_match('xxcaazz', 'xxbaaz') → 3\n",
        "string_match('abc', 'abc') → 2\n",
        "string_match('abc', 'axc') → 0"
      ]
    },
    {
      "metadata": {
        "id": "qxwB5CahyA8s",
        "colab_type": "code",
        "outputId": "af010ba3-1b51-489a-a7ab-7a172f1b84ff",
        "colab": {
          "base_uri": "https://localhost:8080/",
          "height": 35
        }
      },
      "cell_type": "code",
      "source": [
        "def string_match(a, b):\n",
        "  aa=[]\n",
        "  bb=[]\n",
        "  for i in range(len(a)-1):\n",
        "    aa.append(a[i:i+2])\n",
        "  for j in range(len(b)-1):\n",
        "    bb.append(b[j:j+2])\n",
        "  aa=set(aa)\n",
        "  bb=set(bb)\n",
        "  return(len(aa.intersection(bb)))\n",
        "  \n",
        "string_match('abcdef', 'abcdtre')"
      ],
      "execution_count": 0,
      "outputs": [
        {
          "output_type": "execute_result",
          "data": {
            "text/plain": [
              "3"
            ]
          },
          "metadata": {
            "tags": []
          },
          "execution_count": 3
        }
      ]
    },
    {
      "metadata": {
        "id": "cJ8ffQRL1PxN",
        "colab_type": "text"
      },
      "cell_type": "markdown",
      "source": [
        "**2>**\n",
        "Given an \"out\" string length 4, such as \"<<>>\", and a word, return a new string where the word is in the middle of the out string, e.g. \"<<word>>\".\n",
        "\n",
        "make_out_word('<<>>', 'Yay') → '<<Yay>>'\n",
        "make_out_word('<<>>', 'WooHoo') → '<<WooHoo>>'\n",
        "make_out_word('[[]]', 'word') → '[[word]]'"
      ]
    },
    {
      "metadata": {
        "id": "K4szG2Fb4Cl0",
        "colab_type": "code",
        "outputId": "154e1577-e372-4809-9f6f-2959455f07c2",
        "colab": {
          "base_uri": "https://localhost:8080/",
          "height": 35
        }
      },
      "cell_type": "code",
      "source": [
        "def make_out_word(out, word):\n",
        "  out.split(' ',2)\n",
        "  a=[out[i:i+1] for i in range(0, len(out), 1)]\n",
        "  return f'{a[0]}{a[1]}{word}{a[2]}{a[3]}'\n",
        "make_out_word('<<>>', 'Name')"
      ],
      "execution_count": 0,
      "outputs": [
        {
          "output_type": "execute_result",
          "data": {
            "text/plain": [
              "'<<Name>>'"
            ]
          },
          "metadata": {
            "tags": []
          },
          "execution_count": 6
        }
      ]
    },
    {
      "metadata": {
        "id": "jPE-O0xbngYu",
        "colab_type": "text"
      },
      "cell_type": "markdown",
      "source": [
        "**3>**\n",
        "http://www.pythonchallenge.com/pc/def/map.html\n",
        "\n",
        "According to the clue, characters in the message are shifted by 2.   \n",
        "\n",
        "**translate**=>g fmnc wms bgblr rpylqjyrc gr zw fylb. rfyrq ufyr amknsrcpq ypc dmp. bmgle gr gl zw fylb gq glcddgagclr ylb rfyr'q ufw rfgq rcvr gq qm jmle. sqgle qrpgle.kyicrpylq() gq pcamkkclbcb. lmu ynnjw ml rfc spj.\n"
      ]
    },
    {
      "metadata": {
        "id": "UCr2zW19n06W",
        "colab_type": "code",
        "colab": {}
      },
      "cell_type": "code",
      "source": [
        "sentence=\"g fmnc wms bgblr rpylqjyrc gr zw fylb. rfyrq ufyr amknsrcpq ypc dmp. bmgle gr gl zw fylb gq glcddgagclr ylb rfyr'q ufw rfgq rcvr gq qm jmle. sqgle qrpgle.kyicrpylq() gq pcamkkclbcb. lmu ynnjw ml rfc spj.\" "
      ],
      "execution_count": 0,
      "outputs": []
    },
    {
      "metadata": {
        "id": "9zNVFhJUoLTG",
        "colab_type": "code",
        "outputId": "6ef6baba-cddf-4209-ed0f-87c28b15854c",
        "colab": {
          "base_uri": "https://localhost:8080/",
          "height": 55
        }
      },
      "cell_type": "code",
      "source": [
        "import string\n",
        "\n",
        "ascii_str = string.ascii_lowercase\n",
        "# to shift characters in string by 2 positions to match the message\n",
        "roatated_ascii_str = ascii_str[2:]+ascii_str[:2]\n",
        "# create translation table\n",
        "translation_table = str.maketrans(ascii_str,roatated_ascii_str)\n",
        "# translate the message\n",
        "print(sentence.translate(translation_table))\n"
      ],
      "execution_count": 0,
      "outputs": [
        {
          "output_type": "stream",
          "text": [
            "i hope you didnt translate it by hand. thats what computers are for. doing it in by hand is inefficient and that's why this text is so long. using string.maketrans() is recommended. now apply on the url.\n"
          ],
          "name": "stdout"
        }
      ]
    },
    {
      "metadata": {
        "id": "d7J262WDqI0M",
        "colab_type": "code",
        "outputId": "0fbc9f8e-bfab-464d-9486-c932763ca833",
        "colab": {
          "base_uri": "https://localhost:8080/",
          "height": 35
        }
      },
      "cell_type": "code",
      "source": [
        "url=\"http://www.pythonchallenge.com/pc/def/map.html\"\n",
        "print(url.translate(translation_table))"
      ],
      "execution_count": 0,
      "outputs": [
        {
          "output_type": "stream",
          "text": [
            "jvvr://yyy.ravjqpejcnngpig.eqo/re/fgh/ocr.jvon\n"
          ],
          "name": "stdout"
        }
      ]
    },
    {
      "metadata": {
        "id": "wEgaVBw5eej0",
        "colab_type": "text"
      },
      "cell_type": "markdown",
      "source": [
        "**4> **\n",
        "Take a list, say for example this one:\n",
        "\n",
        "  a = [1, 1, 2, 3, 5, 8, 13, 21, 34, 55, 89]\n",
        "\n",
        "and write a program that prints out all the elements of the list that are less than 5.\n",
        "\n",
        "Extras:\n",
        "\n",
        "    1.Instead of printing the elements one by one, make a new list that has all the elements less than 5 from this list in it and print out this new list.\n",
        "    2.Write this in one line of Python.\n",
        "    3.Ask the user for a number and return a list that contains only elements from the original list a that are smaller than that number given by the user.\n"
      ]
    },
    {
      "metadata": {
        "id": "dYAbN_KFeqAK",
        "colab_type": "code",
        "outputId": "3ebb4f77-096b-48cc-fd8a-7533d306a6ba",
        "colab": {
          "base_uri": "https://localhost:8080/",
          "height": 54
        }
      },
      "cell_type": "code",
      "source": [
        "def smaller_than_input(number,list_a):\n",
        "  \n",
        "  return [new_list for new_list in list_a if new_list<number]\n",
        "\n",
        "smaller_than_input(int(input('enter the number: ')), [1, 1, 2, 3, 5, 8, 13, 21, 34, 55, 89])"
      ],
      "execution_count": 0,
      "outputs": [
        {
          "output_type": "stream",
          "text": [
            "enter the number: 10\n"
          ],
          "name": "stdout"
        },
        {
          "output_type": "execute_result",
          "data": {
            "text/plain": [
              "[1, 1, 2, 3, 5, 8]"
            ]
          },
          "metadata": {
            "tags": []
          },
          "execution_count": 3
        }
      ]
    },
    {
      "metadata": {
        "id": "jG95jVBrgOtU",
        "colab_type": "text"
      },
      "cell_type": "markdown",
      "source": [
        "**5>**\n",
        "Make a two-player Rock-Paper-Scissors game. (Hint: Ask for player plays (using input), compare them, print out a message of congratulations to the winner, and ask if the players want to start a new game)\n",
        "\n",
        "Remember the rules:\n",
        "\n",
        "    Rock beats scissors\n",
        "    Scissors beats paper\n",
        "    Paper beats rock\n"
      ]
    },
    {
      "metadata": {
        "id": "79V75FpmyhKs",
        "colab_type": "code",
        "outputId": "8296db23-443a-41d8-a159-ddc799a9affd",
        "colab": {
          "base_uri": "https://localhost:8080/",
          "height": 182
        }
      },
      "cell_type": "code",
      "source": [
        "# game logic\n",
        "def rock_paper_scissors(p1,p2):\n",
        "  \n",
        "  if (p1.lower()=='rock' and p2.lower()=='scissors') or (p1.lower()=='scissors' and p2.lower()=='paper') or (p1.lower()=='paper' and p2.lower()=='rock'):\n",
        "    return print('player_1 is winner')\n",
        "  elif p1.lower()==p2.lower():\n",
        "    return print('draw')\n",
        "  else:\n",
        "    return print('player_2 is winner')\n",
        "  \n",
        "rps='rock paper scissors'\n",
        "\n",
        "# game loop\n",
        "while(True):\n",
        "  while(True):\n",
        "    player_1=input('player 1: ')\n",
        "    if player_1.lower() not in rps:\n",
        "      print('Please enter rock paper or scissors only ')\n",
        "    else:\n",
        "      break\n",
        "  while(True):\n",
        "    player_2=input('Player 2: ')\n",
        "    if player_2.lower() not in rps:\n",
        "      print('Please enter rock paper or scissors only')\n",
        "    else:\n",
        "      break\n",
        "# calling game logic fuction\n",
        "  rock_paper_scissors(player_1,player_2)\n",
        "  \n",
        "  new_game=input('Press c to continue playing or any key to quit: ')\n",
        "  if new_game.lower()=='c':\n",
        "    print('New game')\n",
        "  else:\n",
        "    print('Thanks for playing')\n",
        "    break"
      ],
      "execution_count": 0,
      "outputs": [
        {
          "output_type": "stream",
          "text": [
            "player 1: rock\n",
            "Player 2: rock\n",
            "draw\n",
            "Press c to continue playing or any key to quit: c\n",
            "New game\n",
            "player 1: rock\n",
            "Player 2: rock\n",
            "draw\n",
            "Press c to continue playing or any key to quit: n\n"
          ],
          "name": "stdout"
        }
      ]
    },
    {
      "metadata": {
        "id": "2SBo_Ramcoaf",
        "colab_type": "text"
      },
      "cell_type": "markdown",
      "source": [
        "**6>**\n",
        "You are given a string . \n",
        " \n",
        "contains alphanumeric characters only. \n",
        "\n",
        "Your task is to sort the string  in the following manner:\n",
        "\n",
        "All sorted lowercase letters are ahead of uppercase letters.\n",
        "All sorted uppercase letters are ahead of digits.\n",
        "All sorted odd digits are ahead of sorted even digits.\n",
        "\n",
        "Sample Input\n",
        "\n",
        "Sorting1234\n",
        "\n",
        "Sample Output\n",
        "\n",
        "ginortS1324"
      ]
    },
    {
      "metadata": {
        "id": "jkXH_ZkIc54O",
        "colab_type": "code",
        "outputId": "2d3ba033-2c56-4e3b-9f63-224885ea9d15",
        "colab": {
          "base_uri": "https://localhost:8080/",
          "height": 54
        }
      },
      "cell_type": "code",
      "source": [
        "a=input()\n",
        "\n",
        "lower_c=''\n",
        "upper_c=''\n",
        "odds=''\n",
        "evens=''\n",
        "\n",
        "for i in range(len(a)):\n",
        "  if a[i].isupper():\n",
        "    upper_c+=a[i]\n",
        "  elif a[i].islower and a[i].isalpha():\n",
        "    lower_c+=a[i]\n",
        "  else:\n",
        "    \n",
        "    if int(a[i])%2==0:\n",
        "        evens+=a[i]\n",
        "    else:\n",
        "         odds+=a[i]\n",
        "  \n",
        "print(''.join(sorted(lower_c)) +''.join(sorted(upper_c))+''.join(sorted(odds))+''.join(sorted(evens)))\n"
      ],
      "execution_count": 0,
      "outputs": [
        {
          "output_type": "stream",
          "text": [
            "Thisisanexample122546\n",
            "aaeehiilmnpssxT152246\n"
          ],
          "name": "stdout"
        }
      ]
    }
  ]
}